{
 "cells": [
  {
   "cell_type": "code",
   "execution_count": 23,
   "id": "cross-barcelona",
   "metadata": {},
   "outputs": [],
   "source": [
    "import os\n",
    "import random"
   ]
  },
  {
   "cell_type": "markdown",
   "id": "bulgarian-server",
   "metadata": {},
   "source": [
    "For pseudo-ramdom numbers, we can set a seed."
   ]
  },
  {
   "cell_type": "code",
   "execution_count": 33,
   "id": "alike-illinois",
   "metadata": {},
   "outputs": [],
   "source": [
    "random.seed(42)"
   ]
  },
  {
   "cell_type": "markdown",
   "id": "liable-firewall",
   "metadata": {},
   "source": [
    "### Hello world"
   ]
  },
  {
   "cell_type": "markdown",
   "id": "beautiful-usage",
   "metadata": {},
   "source": [
    "As a programming tradition, let's first print out a 'Hello World' greeting."
   ]
  },
  {
   "cell_type": "code",
   "execution_count": 24,
   "id": "warming-verification",
   "metadata": {},
   "outputs": [
    {
     "name": "stdout",
     "output_type": "stream",
     "text": [
      "Hello World!\n"
     ]
    }
   ],
   "source": [
    "x = 'Hello World!'\n",
    "print(x)"
   ]
  },
  {
   "cell_type": "markdown",
   "id": "known-philip",
   "metadata": {},
   "source": [
    "### Loops, lists, dictionaries"
   ]
  },
  {
   "cell_type": "markdown",
   "id": "verified-variable",
   "metadata": {},
   "source": [
    "Now, let's add our names with the standard input method. Use a comma to separate multiple names."
   ]
  },
  {
   "cell_type": "code",
   "execution_count": 19,
   "id": "collected-andrew",
   "metadata": {},
   "outputs": [
    {
     "name": "stdout",
     "output_type": "stream",
     "text": [
      "Name of course participants: Andreas, Otto, Eva, Oliver, Selma, Harry, Adam\n"
     ]
    }
   ],
   "source": [
    "names = input(\"Name of course participants: \")"
   ]
  },
  {
   "cell_type": "markdown",
   "id": "given-tongue",
   "metadata": {},
   "source": [
    "Let's first remove any white spaces."
   ]
  },
  {
   "cell_type": "code",
   "execution_count": 20,
   "id": "north-geology",
   "metadata": {},
   "outputs": [],
   "source": [
    "names = names.replace(' ','')"
   ]
  },
  {
   "cell_type": "markdown",
   "id": "expected-jenny",
   "metadata": {},
   "source": [
    "And let's now split on the commas to get a list of names."
   ]
  },
  {
   "cell_type": "code",
   "execution_count": 39,
   "id": "entertaining-graham",
   "metadata": {},
   "outputs": [],
   "source": [
    "names_list = names.split(',')"
   ]
  },
  {
   "cell_type": "code",
   "execution_count": 40,
   "id": "czech-specific",
   "metadata": {},
   "outputs": [
    {
     "data": {
      "text/plain": [
       "['Andreas', 'Otto', 'Eva', 'Oliver', 'Selma', 'Harry', 'Adam']"
      ]
     },
     "execution_count": 40,
     "metadata": {},
     "output_type": "execute_result"
    }
   ],
   "source": [
    "names_list"
   ]
  },
  {
   "cell_type": "markdown",
   "id": "confirmed-creature",
   "metadata": {},
   "source": [
    "We would like to randomly assign names to groups now. One way to do that is using `random`."
   ]
  },
  {
   "cell_type": "code",
   "execution_count": 30,
   "id": "molecular-given",
   "metadata": {},
   "outputs": [],
   "source": [
    "groups = {} # initializes an empty dictionary"
   ]
  },
  {
   "cell_type": "markdown",
   "id": "extended-johns",
   "metadata": {},
   "source": [
    "Let's make 3 groups with 2 participants each."
   ]
  },
  {
   "cell_type": "code",
   "execution_count": 41,
   "id": "veterinary-sector",
   "metadata": {},
   "outputs": [],
   "source": [
    "for i in range(3): # loop through group IDs\n",
    "    groups[i] = [] # initialize an empty list in the directory with the current ID\n",
    "    for j in range(2): # loop through number of candidates\n",
    "        random_name = random.choice(names_list) # choose a random name\n",
    "        groups[i].append(random_name) # append name to the current group\n",
    "        names_list.remove(random_name) # remove the name from the names list"
   ]
  },
  {
   "cell_type": "code",
   "execution_count": 42,
   "id": "geological-uruguay",
   "metadata": {},
   "outputs": [
    {
     "data": {
      "text/plain": [
       "{0: ['Harry', 'Andreas'], 1: ['Adam', 'Otto'], 2: ['Selma', 'Oliver']}"
      ]
     },
     "execution_count": 42,
     "metadata": {},
     "output_type": "execute_result"
    }
   ],
   "source": [
    "groups"
   ]
  },
  {
   "cell_type": "markdown",
   "id": "annual-march",
   "metadata": {},
   "source": [
    "We cah check who is in which group by index."
   ]
  },
  {
   "cell_type": "code",
   "execution_count": 43,
   "id": "tested-shark",
   "metadata": {},
   "outputs": [
    {
     "data": {
      "text/plain": [
       "['Harry', 'Andreas']"
      ]
     },
     "execution_count": 43,
     "metadata": {},
     "output_type": "execute_result"
    }
   ],
   "source": [
    "groups[0]"
   ]
  },
  {
   "cell_type": "markdown",
   "id": "expressed-contract",
   "metadata": {},
   "source": [
    "### Arrays"
   ]
  },
  {
   "cell_type": "markdown",
   "id": "representative-partner",
   "metadata": {},
   "source": [
    "For array funcitionality we need numpy."
   ]
  },
  {
   "cell_type": "code",
   "execution_count": 44,
   "id": "advance-lender",
   "metadata": {},
   "outputs": [],
   "source": [
    "import numpy as np"
   ]
  },
  {
   "cell_type": "markdown",
   "id": "independent-finance",
   "metadata": {},
   "source": [
    "Some arrays:"
   ]
  },
  {
   "cell_type": "code",
   "execution_count": 45,
   "id": "premier-boating",
   "metadata": {},
   "outputs": [
    {
     "data": {
      "text/plain": [
       "array([[0., 0., 0.],\n",
       "       [0., 0., 0.],\n",
       "       [0., 0., 0.]])"
      ]
     },
     "execution_count": 45,
     "metadata": {},
     "output_type": "execute_result"
    }
   ],
   "source": [
    "np.zeros((3,3))"
   ]
  },
  {
   "cell_type": "code",
   "execution_count": 46,
   "id": "editorial-damage",
   "metadata": {},
   "outputs": [
    {
     "data": {
      "text/plain": [
       "array([[1., 1., 1., 1.],\n",
       "       [1., 1., 1., 1.]])"
      ]
     },
     "execution_count": 46,
     "metadata": {},
     "output_type": "execute_result"
    }
   ],
   "source": [
    "np.ones((2,4))"
   ]
  },
  {
   "cell_type": "code",
   "execution_count": 48,
   "id": "accurate-generator",
   "metadata": {},
   "outputs": [
    {
     "data": {
      "text/plain": [
       "array([[4, 0],\n",
       "       [0, 4]])"
      ]
     },
     "execution_count": 48,
     "metadata": {},
     "output_type": "execute_result"
    }
   ],
   "source": [
    "np.diag((4,4))"
   ]
  },
  {
   "cell_type": "code",
   "execution_count": 69,
   "id": "accomplished-tumor",
   "metadata": {},
   "outputs": [],
   "source": [
    "x = np.random.randint(10, size=(5,4))\n",
    "y = np.random.randint(10, size=(4,2))"
   ]
  },
  {
   "cell_type": "code",
   "execution_count": 97,
   "id": "disabled-greece",
   "metadata": {},
   "outputs": [],
   "source": [
    "z = np.linspace(0,10,21) # create array with 21 elements linearily spaced from 0 to 10"
   ]
  },
  {
   "cell_type": "code",
   "execution_count": 98,
   "id": "hindu-wagon",
   "metadata": {},
   "outputs": [
    {
     "data": {
      "text/plain": [
       "(array([[6, 0, 3, 0],\n",
       "        [1, 1, 3, 6],\n",
       "        [1, 9, 8, 9],\n",
       "        [6, 8, 7, 1],\n",
       "        [5, 3, 6, 5]]),\n",
       " array([[8, 5],\n",
       "        [0, 0],\n",
       "        [7, 7],\n",
       "        [6, 0]]),\n",
       " array([ 0. ,  0.5,  1. ,  1.5,  2. ,  2.5,  3. ,  3.5,  4. ,  4.5,  5. ,\n",
       "         5.5,  6. ,  6.5,  7. ,  7.5,  8. ,  8.5,  9. ,  9.5, 10. ]))"
      ]
     },
     "execution_count": 98,
     "metadata": {},
     "output_type": "execute_result"
    }
   ],
   "source": [
    "x , y, z"
   ]
  },
  {
   "cell_type": "markdown",
   "id": "median-ground",
   "metadata": {},
   "source": [
    "Matrix multiplication"
   ]
  },
  {
   "cell_type": "code",
   "execution_count": 71,
   "id": "cooked-recruitment",
   "metadata": {},
   "outputs": [
    {
     "data": {
      "text/plain": [
       "array([[ 69,  51],\n",
       "       [ 65,  26],\n",
       "       [118,  61],\n",
       "       [103,  79],\n",
       "       [112,  67]])"
      ]
     },
     "execution_count": 71,
     "metadata": {},
     "output_type": "execute_result"
    }
   ],
   "source": [
    "np.matmul(x,y)"
   ]
  },
  {
   "cell_type": "markdown",
   "id": "aggregate-investing",
   "metadata": {},
   "source": [
    "Element-wise multiplication"
   ]
  },
  {
   "cell_type": "code",
   "execution_count": 72,
   "id": "attractive-pulse",
   "metadata": {},
   "outputs": [
    {
     "data": {
      "text/plain": [
       "array([[12,  0,  6,  0],\n",
       "       [ 2,  2,  6, 12],\n",
       "       [ 2, 18, 16, 18],\n",
       "       [12, 16, 14,  2],\n",
       "       [10,  6, 12, 10]])"
      ]
     },
     "execution_count": 72,
     "metadata": {},
     "output_type": "execute_result"
    }
   ],
   "source": [
    "x * 2"
   ]
  },
  {
   "cell_type": "markdown",
   "id": "permanent-integral",
   "metadata": {},
   "source": [
    "Comparisons"
   ]
  },
  {
   "cell_type": "code",
   "execution_count": 73,
   "id": "bridal-sherman",
   "metadata": {},
   "outputs": [
    {
     "data": {
      "text/plain": [
       "array([[ True, False, False, False],\n",
       "       [False, False, False,  True],\n",
       "       [False,  True,  True,  True],\n",
       "       [ True,  True,  True, False],\n",
       "       [ True, False,  True,  True]])"
      ]
     },
     "execution_count": 73,
     "metadata": {},
     "output_type": "execute_result"
    }
   ],
   "source": [
    "x > 4"
   ]
  },
  {
   "cell_type": "markdown",
   "id": "temporal-today",
   "metadata": {},
   "source": [
    "Boolean indexing"
   ]
  },
  {
   "cell_type": "code",
   "execution_count": 74,
   "id": "worth-argument",
   "metadata": {},
   "outputs": [
    {
     "data": {
      "text/plain": [
       "array([6, 6, 9, 8, 9, 6, 8, 7, 5, 6, 5])"
      ]
     },
     "execution_count": 74,
     "metadata": {},
     "output_type": "execute_result"
    }
   ],
   "source": [
    "x[x>4]"
   ]
  },
  {
   "cell_type": "markdown",
   "id": "heavy-hawaii",
   "metadata": {},
   "source": [
    "Changing array shape"
   ]
  },
  {
   "cell_type": "code",
   "execution_count": 77,
   "id": "going-beach",
   "metadata": {},
   "outputs": [
    {
     "data": {
      "text/plain": [
       "(array([[6, 0, 3, 0],\n",
       "        [1, 1, 3, 6],\n",
       "        [1, 9, 8, 9],\n",
       "        [6, 8, 7, 1],\n",
       "        [5, 3, 6, 5]]),\n",
       " array([6, 0, 3, 0, 1, 1, 3, 6, 1, 9, 8, 9, 6, 8, 7, 1, 5, 3, 6, 5]))"
      ]
     },
     "execution_count": 77,
     "metadata": {},
     "output_type": "execute_result"
    }
   ],
   "source": [
    "x, x.ravel() # convert to linear array"
   ]
  },
  {
   "cell_type": "code",
   "execution_count": 78,
   "id": "offensive-screw",
   "metadata": {},
   "outputs": [
    {
     "data": {
      "text/plain": [
       "(array([[6, 0, 3, 0],\n",
       "        [1, 1, 3, 6],\n",
       "        [1, 9, 8, 9],\n",
       "        [6, 8, 7, 1],\n",
       "        [5, 3, 6, 5]]),\n",
       " array([[6, 0, 3, 0, 1, 1, 3, 6, 1, 9],\n",
       "        [8, 9, 6, 8, 7, 1, 5, 3, 6, 5]]))"
      ]
     },
     "execution_count": 78,
     "metadata": {},
     "output_type": "execute_result"
    }
   ],
   "source": [
    "x, x.reshape((2,10)) # change array dimensions"
   ]
  },
  {
   "cell_type": "markdown",
   "id": "other-lightning",
   "metadata": {},
   "source": [
    "### Plotting and functions"
   ]
  },
  {
   "cell_type": "markdown",
   "id": "reliable-philadelphia",
   "metadata": {},
   "source": [
    "For plotting we need Matplotlib."
   ]
  },
  {
   "cell_type": "code",
   "execution_count": 79,
   "id": "appreciated-allergy",
   "metadata": {},
   "outputs": [],
   "source": [
    "from matplotlib import pyplot as plt"
   ]
  },
  {
   "cell_type": "code",
   "execution_count": 117,
   "id": "favorite-program",
   "metadata": {},
   "outputs": [
    {
     "data": {
      "image/png": "[encoded data removed]",
      "text/plain": [
       "<Figure size 720x720 with 1 Axes>"
      ]
     },
     "metadata": {
      "needs_background": "light"
     },
     "output_type": "display_data"
    }
   ],
   "source": [
    "plt.figure(figsize=(10,10)) # initialize figure\n",
    "plt.plot(3,1,'ob'); # plot at coordinates 3 / 1 a blue circle"
   ]
  },
  {
   "cell_type": "markdown",
   "id": "brief-prerequisite",
   "metadata": {},
   "source": [
    "For mathematical functions, we need to import the math module."
   ]
  },
  {
   "cell_type": "code",
   "execution_count": 104,
   "id": "adult-bermuda",
   "metadata": {},
   "outputs": [],
   "source": [
    "import math"
   ]
  },
  {
   "cell_type": "code",
   "execution_count": 111,
   "id": "collected-secretariat",
   "metadata": {},
   "outputs": [],
   "source": [
    "def Sinus(x):\n",
    "    return(np.sin(x)) # we use np.sin instad of math.sin becasue our input will be a numpy array"
   ]
  },
  {
   "cell_type": "code",
   "execution_count": 116,
   "id": "burning-characterization",
   "metadata": {},
   "outputs": [
    {
     "data": {
      "image/png": "[encoded data removed]",
      "text/plain": [
       "<Figure size 720x720 with 1 Axes>"
      ]
     },
     "metadata": {
      "needs_background": "light"
     },
     "output_type": "display_data"
    }
   ],
   "source": [
    "x = np.linspace(-2*math.pi, 2*math.pi, num=100) # create linearily spaced array\n",
    "y = Sinus(x) # run function\n",
    "plt.figure(figsize=(10,10)) # initialize figure\n",
    "plt.plot(x,y,'r-'); # plot as red line"
   ]
  }
 ],
 "metadata": {
  "kernelspec": {
   "display_name": "Python 3",
   "language": "python",
   "name": "python3"
  },
  "language_info": {
   "codemirror_mode": {
    "name": "ipython",
    "version": 3
   },
   "file_extension": ".py",
   "mimetype": "text/x-python",
   "name": "python",
   "nbconvert_exporter": "python",
   "pygments_lexer": "ipython3",
   "version": "3.8.0"
  }
 },
 "nbformat": 4,
 "nbformat_minor": 5
}
