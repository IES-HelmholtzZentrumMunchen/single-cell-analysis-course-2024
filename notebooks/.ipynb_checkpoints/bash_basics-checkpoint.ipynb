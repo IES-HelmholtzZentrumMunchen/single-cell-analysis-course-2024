{
 "cells": [
  {
   "cell_type": "markdown",
   "metadata": {},
   "source": [
    "## Bash basics"
   ]
  },
  {
   "cell_type": "markdown",
   "metadata": {},
   "source": [
    "In Jupyter notebooks, all commands are preceded with `%`."
   ]
  },
  {
   "cell_type": "markdown",
   "metadata": {},
   "source": [
    "### Navigating the file system"
   ]
  },
  {
   "cell_type": "markdown",
   "metadata": {},
   "source": [
    "Which folder am I in?"
   ]
  },
  {
   "cell_type": "code",
   "execution_count": 11,
   "metadata": {},
   "outputs": [
    {
     "data": {
      "text/plain": [
       "'C:\\\\Users\\\\avean\\\\Documents\\\\Projects\\\\scater\\\\single-cell-analysis-course-2021'"
      ]
     },
     "execution_count": 11,
     "metadata": {},
     "output_type": "execute_result"
    }
   ],
   "source": [
    "%pwd"
   ]
  },
  {
   "cell_type": "markdown",
   "metadata": {},
   "source": [
    "Go up one folder."
   ]
  },
  {
   "cell_type": "code",
   "execution_count": 12,
   "metadata": {},
   "outputs": [
    {
     "name": "stdout",
     "output_type": "stream",
     "text": [
      "C:\\Users\\avean\\Documents\\Projects\\scater\n"
     ]
    }
   ],
   "source": [
    "%cd .."
   ]
  },
  {
   "cell_type": "markdown",
   "metadata": {},
   "source": [
    "Go up two folders."
   ]
  },
  {
   "cell_type": "code",
   "execution_count": 13,
   "metadata": {},
   "outputs": [
    {
     "name": "stdout",
     "output_type": "stream",
     "text": [
      "C:\\Users\\avean\\Documents\n"
     ]
    }
   ],
   "source": [
    "%cd ../.."
   ]
  },
  {
   "cell_type": "markdown",
   "metadata": {},
   "source": [
    "Select a folder and navigate into. Note: You can start typing the folder name, then press `Tab` key to autocomplete."
   ]
  },
  {
   "cell_type": "code",
   "execution_count": 14,
   "metadata": {},
   "outputs": [
    {
     "name": "stdout",
     "output_type": "stream",
     "text": [
      "C:\\Users\\avean\\Documents\\Projects\n"
     ]
    }
   ],
   "source": [
    "%cd Projects"
   ]
  },
  {
   "cell_type": "code",
   "execution_count": 17,
   "metadata": {},
   "outputs": [
    {
     "name": "stdout",
     "output_type": "stream",
     "text": [
      "C:\\Users\\avean\\Documents\\Projects\\scater\\single-cell-analysis-course-2021\n"
     ]
    }
   ],
   "source": [
    "%cd scater/single-cell-analysis-course-2021/"
   ]
  },
  {
   "cell_type": "markdown",
   "metadata": {},
   "source": [
    "Note that `.` and `..` are special locations, `.` is the current directory, `..` the one above."
   ]
  },
  {
   "cell_type": "code",
   "execution_count": 18,
   "metadata": {},
   "outputs": [
    {
     "name": "stdout",
     "output_type": "stream",
     "text": [
      "C:\\Users\\avean\\Documents\\Projects\\scater\\single-cell-analysis-course-2021\n"
     ]
    }
   ],
   "source": [
    "%cd ."
   ]
  },
  {
   "cell_type": "markdown",
   "metadata": {},
   "source": [
    "How to show all files and folders in the current folder?"
   ]
  },
  {
   "cell_type": "code",
   "execution_count": 23,
   "metadata": {},
   "outputs": [
    {
     "name": "stdout",
     "output_type": "stream",
     "text": [
      " Volume in drive C is Local Disk\n",
      " Volume Serial Number is 9CC0-39AA\n",
      "\n",
      " Directory of C:\\Users\\avean\\Documents\\Projects\\scater\\single-cell-analysis-course-2021\n",
      "\n",
      "09/02/2021  16:44    <DIR>          .\n",
      "09/02/2021  16:44    <DIR>          ..\n",
      "10/02/2021  22:53    <DIR>          .git\n",
      "10/02/2021  18:59    <DIR>          docs\n",
      "10/02/2021  11:04    <DIR>          nn_models\n",
      "11/02/2021  09:38    <DIR>          notebooks\n",
      "10/02/2021  09:12               374 README.md\n",
      "10/02/2021  11:00    <DIR>          sample_data\n",
      "               1 File(s)            374 bytes\n",
      "               7 Dir(s)  123.640.315.904 bytes free\n"
     ]
    }
   ],
   "source": [
    "%ls"
   ]
  },
  {
   "cell_type": "markdown",
   "metadata": {},
   "source": [
    "### Basic commands"
   ]
  },
  {
   "cell_type": "markdown",
   "metadata": {},
   "source": [
    "How to make a new folder?"
   ]
  },
  {
   "cell_type": "code",
   "execution_count": 26,
   "metadata": {},
   "outputs": [],
   "source": [
    "%mkdir test_folder"
   ]
  },
  {
   "cell_type": "code",
   "execution_count": 32,
   "metadata": {},
   "outputs": [
    {
     "name": "stdout",
     "output_type": "stream",
     "text": [
      " Volume in drive C is Local Disk\n",
      " Volume Serial Number is 9CC0-39AA\n",
      "\n",
      " Directory of C:\\Users\\avean\\Documents\\Projects\\scater\\single-cell-analysis-course-2021\n",
      "\n",
      "11/02/2021  09:44    <DIR>          .\n",
      "11/02/2021  09:44    <DIR>          ..\n",
      "10/02/2021  22:53    <DIR>          .git\n",
      "10/02/2021  18:59    <DIR>          docs\n",
      "10/02/2021  11:04    <DIR>          nn_models\n",
      "11/02/2021  09:46    <DIR>          notebooks\n",
      "10/02/2021  09:12               374 README.md\n",
      "10/02/2021  11:00    <DIR>          sample_data\n",
      "11/02/2021  09:44    <DIR>          test_folder\n",
      "               1 File(s)            374 bytes\n",
      "               8 Dir(s)  123.640.221.696 bytes free\n"
     ]
    }
   ],
   "source": [
    "%ls"
   ]
  },
  {
   "cell_type": "markdown",
   "metadata": {},
   "source": [
    "How to copy a file into a folder?"
   ]
  },
  {
   "cell_type": "code",
   "execution_count": 31,
   "metadata": {},
   "outputs": [
    {
     "name": "stdout",
     "output_type": "stream",
     "text": [
      "The syntax of the command is incorrect.\n"
     ]
    }
   ],
   "source": [
    "%copy README.md test_folder/"
   ]
  },
  {
   "cell_type": "code",
   "execution_count": null,
   "metadata": {},
   "outputs": [],
   "source": []
  }
 ],
 "metadata": {
  "kernelspec": {
   "display_name": "Python 3",
   "language": "python",
   "name": "python3"
  },
  "language_info": {
   "codemirror_mode": {
    "name": "ipython",
    "version": 3
   },
   "file_extension": ".py",
   "mimetype": "text/x-python",
   "name": "python",
   "nbconvert_exporter": "python",
   "pygments_lexer": "ipython3",
   "version": "3.8.5"
  }
 },
 "nbformat": 4,
 "nbformat_minor": 4
}
