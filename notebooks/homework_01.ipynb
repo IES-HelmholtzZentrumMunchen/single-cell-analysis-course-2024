{
 "cells": [
  {
   "cell_type": "markdown",
   "id": "muslim-provider",
   "metadata": {},
   "source": [
    "## Build an image processing pipeline to detect cells"
   ]
  },
  {
   "cell_type": "markdown",
   "id": "noticed-salmon",
   "metadata": {},
   "source": [
    "General steps of the image processing pipeline:\n",
    "  * Read the images\n",
    "  * Remove noise by an appropriate filter\n",
    "  * Threshold the image\n",
    "  * Apply appropriate morphological filters\n",
    "  * Compare the outcome to the manually annotated image\n",
    "  * Save the result"
   ]
  },
  {
   "cell_type": "markdown",
   "id": "studied-stroke",
   "metadata": {},
   "source": [
    "Please work with the data set in the folder `NN_training`. In this folder, we have files with identical names that are either images from the DNA channel in the folder `images` or black and white images with manually annotated 'masks' in the `masks` folder."
   ]
  },
  {
   "cell_type": "code",
   "execution_count": 2,
   "id": "stupid-paraguay",
   "metadata": {},
   "outputs": [],
   "source": [
    "# import the modules\n",
    "# you will need something to read in images\n",
    "# and something to give you a list with your image files"
   ]
  },
  {
   "cell_type": "markdown",
   "id": "personalized-construction",
   "metadata": {},
   "source": [
    "Test you image analysis pipeline on one image at first."
   ]
  },
  {
   "cell_type": "code",
   "execution_count": null,
   "id": "danish-choice",
   "metadata": {},
   "outputs": [],
   "source": [
    "# use the first image in the list of images"
   ]
  },
  {
   "cell_type": "markdown",
   "id": "neural-turning",
   "metadata": {},
   "source": [
    "### Remove noise"
   ]
  },
  {
   "cell_type": "code",
   "execution_count": 3,
   "id": "second-heath",
   "metadata": {},
   "outputs": [],
   "source": [
    "# import a module for the filter\n",
    "# run the filter on the test image"
   ]
  },
  {
   "cell_type": "markdown",
   "id": "going-referral",
   "metadata": {},
   "source": [
    "### Threshold"
   ]
  },
  {
   "cell_type": "code",
   "execution_count": null,
   "id": "basic-queen",
   "metadata": {},
   "outputs": [],
   "source": [
    "# import a module for thresholding\n",
    "# run a thresholding method\n",
    "# convert the denoised image to a black and white image"
   ]
  },
  {
   "cell_type": "markdown",
   "id": "crazy-sarah",
   "metadata": {},
   "source": [
    "### Morphological filter"
   ]
  },
  {
   "cell_type": "code",
   "execution_count": null,
   "id": "sunrise-pipeline",
   "metadata": {},
   "outputs": [],
   "source": [
    "# import modules for closing of holes and removal of small objects and other modules you may need\n",
    "# close holes and remove small objects"
   ]
  },
  {
   "cell_type": "markdown",
   "id": "continuing-brand",
   "metadata": {},
   "source": [
    "### Test the result"
   ]
  },
  {
   "cell_type": "code",
   "execution_count": null,
   "id": "facial-digit",
   "metadata": {},
   "outputs": [],
   "source": [
    "# find the image with identical file name in the masks\n",
    "# calculate the IOU value\n",
    "# write the value into a list or other data structure"
   ]
  },
  {
   "cell_type": "markdown",
   "id": "unlimited-signal",
   "metadata": {},
   "source": [
    "### Loop through all images"
   ]
  },
  {
   "cell_type": "code",
   "execution_count": null,
   "id": "solar-involvement",
   "metadata": {},
   "outputs": [],
   "source": [
    "# construct a loop that executes all of those functions or write one functions yourself that returns the IOU value, e.g.\n",
    "# function(image file)\n",
    "# ... read image\n",
    "# ... apply filters\n",
    "# ... threshold\n",
    "# ... close holes etc.\n",
    "# ... read mask image\n",
    "# ... calculate IOU\n",
    "# ... return IOU"
   ]
  },
  {
   "cell_type": "code",
   "execution_count": null,
   "id": "charitable-statement",
   "metadata": {},
   "outputs": [],
   "source": [
    "# save the result or plot the result (box plot, scatter, ...)"
   ]
  },
  {
   "cell_type": "markdown",
   "id": "optimum-awareness",
   "metadata": {},
   "source": [
    "### Optimize"
   ]
  },
  {
   "cell_type": "markdown",
   "id": "unknown-premium",
   "metadata": {},
   "source": [
    "Can you optimize your parameters to get better IOU scores? Can you add a watershed filter? Can you find other approaches to improve your result?"
   ]
  }
 ],
 "metadata": {
  "kernelspec": {
   "display_name": "Python 3",
   "language": "python",
   "name": "python3"
  },
  "language_info": {
   "codemirror_mode": {
    "name": "ipython",
    "version": 3
   },
   "file_extension": ".py",
   "mimetype": "text/x-python",
   "name": "python",
   "nbconvert_exporter": "python",
   "pygments_lexer": "ipython3",
   "version": "3.8.0"
  }
 },
 "nbformat": 4,
 "nbformat_minor": 5
}
